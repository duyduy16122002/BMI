{
 "cells": [
  {
   "cell_type": "code",
   "execution_count": 20,
   "id": "cb65a8cc",
   "metadata": {},
   "outputs": [
    {
     "name": "stdout",
     "output_type": "stream",
     "text": [
      "Nhap can nang: 55\n",
      "Nhap chieu cao: 170\n",
      "19.031141868512112\n",
      "Binh thuong\n"
     ]
    }
   ],
   "source": [
    "wei = float(input(\"Nhap can nang: \"))\n",
    "hei = float(input(\"Nhap chieu cao: \"))\n",
    "hei = hei/100\n",
    "bmi = wei / (hei**2)\n",
    "print(bmi)\n",
    "if bmi > 40:\n",
    "    print(\"Beo phi cap do III\")\n",
    "elif 35 <= bmi < 40:\n",
    "    print('Beo phi cap do II')\n",
    "elif 30 <= bmi < 35:\n",
    "    print('Beo phi cap do I')\n",
    "elif 25 <= bmi < 30:\n",
    "    print('Thua can')\n",
    "elif 18.5 <= bmi < 25:\n",
    "    print('Binh thuong')\n",
    "elif 17 <= bmi < 18.5:\n",
    "    print('Gay cap do I')\n",
    "elif 16 <= bmi < 17:\n",
    "    print(\"Gay cap do II\")\n",
    "elif bmi < 16 :\n",
    "    print('Gay cap do III')\n"
   ]
  }
 ],
 "metadata": {
  "kernelspec": {
   "display_name": "Python 3 (ipykernel)",
   "language": "python",
   "name": "python3"
  },
  "language_info": {
   "codemirror_mode": {
    "name": "ipython",
    "version": 3
   },
   "file_extension": ".py",
   "mimetype": "text/x-python",
   "name": "python",
   "nbconvert_exporter": "python",
   "pygments_lexer": "ipython3",
   "version": "3.9.12"
  }
 },
 "nbformat": 4,
 "nbformat_minor": 5
}
